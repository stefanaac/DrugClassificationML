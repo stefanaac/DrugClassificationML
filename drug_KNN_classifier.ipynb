{
 "cells": [
  {
   "cell_type": "markdown",
   "metadata": {},
   "source": [
    "Importarea librariilor necesare"
   ]
  },
  {
   "cell_type": "code",
   "execution_count": 874,
   "metadata": {},
   "outputs": [],
   "source": [
    "import os\n",
    "import subprocess\n",
    "import pandas as pd\n",
    "import matplotlib.pyplot as plt\n",
    "import seaborn as sns\n",
    "from sklearn.preprocessing import LabelEncoder\n",
    "from sklearn.model_selection import train_test_split\n",
    "from sklearn.metrics import *\n",
    "from sklearn.neighbors import KNeighborsClassifier\n",
    "from sklearn.neighbors import RadiusNeighborsClassifier\n",
    "import numpy as np"
   ]
  },
  {
   "cell_type": "markdown",
   "metadata": {},
   "source": [
    "Incarcare dataset, prezentare dataset"
   ]
  },
  {
   "cell_type": "code",
   "execution_count": 875,
   "metadata": {},
   "outputs": [],
   "source": [
    "input_file = \"drug200.csv\"\n",
    "\n",
    "\n",
    "# comma delimited is the default\n",
    "#read_csv method - Read a comma-separated values (csv) file into DataFrame.\n",
    "data = pd.read_csv(input_file, header = 0)"
   ]
  },
  {
   "cell_type": "code",
   "execution_count": 876,
   "metadata": {},
   "outputs": [
    {
     "data": {
      "text/html": [
       "<div>\n",
       "<style scoped>\n",
       "    .dataframe tbody tr th:only-of-type {\n",
       "        vertical-align: middle;\n",
       "    }\n",
       "\n",
       "    .dataframe tbody tr th {\n",
       "        vertical-align: top;\n",
       "    }\n",
       "\n",
       "    .dataframe thead th {\n",
       "        text-align: right;\n",
       "    }\n",
       "</style>\n",
       "<table border=\"1\" class=\"dataframe\">\n",
       "  <thead>\n",
       "    <tr style=\"text-align: right;\">\n",
       "      <th></th>\n",
       "      <th>Age</th>\n",
       "      <th>Sex</th>\n",
       "      <th>BP</th>\n",
       "      <th>Cholesterol</th>\n",
       "      <th>Na_to_K</th>\n",
       "      <th>Drug</th>\n",
       "    </tr>\n",
       "  </thead>\n",
       "  <tbody>\n",
       "    <tr>\n",
       "      <th>0</th>\n",
       "      <td>23</td>\n",
       "      <td>F</td>\n",
       "      <td>HIGH</td>\n",
       "      <td>HIGH</td>\n",
       "      <td>25.355</td>\n",
       "      <td>DrugY</td>\n",
       "    </tr>\n",
       "    <tr>\n",
       "      <th>1</th>\n",
       "      <td>47</td>\n",
       "      <td>M</td>\n",
       "      <td>LOW</td>\n",
       "      <td>HIGH</td>\n",
       "      <td>13.093</td>\n",
       "      <td>drugC</td>\n",
       "    </tr>\n",
       "    <tr>\n",
       "      <th>2</th>\n",
       "      <td>47</td>\n",
       "      <td>M</td>\n",
       "      <td>LOW</td>\n",
       "      <td>HIGH</td>\n",
       "      <td>10.114</td>\n",
       "      <td>drugC</td>\n",
       "    </tr>\n",
       "    <tr>\n",
       "      <th>3</th>\n",
       "      <td>28</td>\n",
       "      <td>F</td>\n",
       "      <td>NORMAL</td>\n",
       "      <td>HIGH</td>\n",
       "      <td>7.798</td>\n",
       "      <td>drugX</td>\n",
       "    </tr>\n",
       "    <tr>\n",
       "      <th>4</th>\n",
       "      <td>61</td>\n",
       "      <td>F</td>\n",
       "      <td>LOW</td>\n",
       "      <td>HIGH</td>\n",
       "      <td>18.043</td>\n",
       "      <td>DrugY</td>\n",
       "    </tr>\n",
       "    <tr>\n",
       "      <th>...</th>\n",
       "      <td>...</td>\n",
       "      <td>...</td>\n",
       "      <td>...</td>\n",
       "      <td>...</td>\n",
       "      <td>...</td>\n",
       "      <td>...</td>\n",
       "    </tr>\n",
       "    <tr>\n",
       "      <th>195</th>\n",
       "      <td>56</td>\n",
       "      <td>F</td>\n",
       "      <td>LOW</td>\n",
       "      <td>HIGH</td>\n",
       "      <td>11.567</td>\n",
       "      <td>drugC</td>\n",
       "    </tr>\n",
       "    <tr>\n",
       "      <th>196</th>\n",
       "      <td>16</td>\n",
       "      <td>M</td>\n",
       "      <td>LOW</td>\n",
       "      <td>HIGH</td>\n",
       "      <td>12.006</td>\n",
       "      <td>drugC</td>\n",
       "    </tr>\n",
       "    <tr>\n",
       "      <th>197</th>\n",
       "      <td>52</td>\n",
       "      <td>M</td>\n",
       "      <td>NORMAL</td>\n",
       "      <td>HIGH</td>\n",
       "      <td>9.894</td>\n",
       "      <td>drugX</td>\n",
       "    </tr>\n",
       "    <tr>\n",
       "      <th>198</th>\n",
       "      <td>23</td>\n",
       "      <td>M</td>\n",
       "      <td>NORMAL</td>\n",
       "      <td>NORMAL</td>\n",
       "      <td>14.020</td>\n",
       "      <td>drugX</td>\n",
       "    </tr>\n",
       "    <tr>\n",
       "      <th>199</th>\n",
       "      <td>40</td>\n",
       "      <td>F</td>\n",
       "      <td>LOW</td>\n",
       "      <td>NORMAL</td>\n",
       "      <td>11.349</td>\n",
       "      <td>drugX</td>\n",
       "    </tr>\n",
       "  </tbody>\n",
       "</table>\n",
       "<p>200 rows × 6 columns</p>\n",
       "</div>"
      ],
      "text/plain": [
       "     Age Sex      BP Cholesterol  Na_to_K   Drug\n",
       "0     23   F    HIGH        HIGH   25.355  DrugY\n",
       "1     47   M     LOW        HIGH   13.093  drugC\n",
       "2     47   M     LOW        HIGH   10.114  drugC\n",
       "3     28   F  NORMAL        HIGH    7.798  drugX\n",
       "4     61   F     LOW        HIGH   18.043  DrugY\n",
       "..   ...  ..     ...         ...      ...    ...\n",
       "195   56   F     LOW        HIGH   11.567  drugC\n",
       "196   16   M     LOW        HIGH   12.006  drugC\n",
       "197   52   M  NORMAL        HIGH    9.894  drugX\n",
       "198   23   M  NORMAL      NORMAL   14.020  drugX\n",
       "199   40   F     LOW      NORMAL   11.349  drugX\n",
       "\n",
       "[200 rows x 6 columns]"
      ]
     },
     "execution_count": 876,
     "metadata": {},
     "output_type": "execute_result"
    }
   ],
   "source": [
    "data"
   ]
  },
  {
   "cell_type": "code",
   "execution_count": 877,
   "metadata": {},
   "outputs": [
    {
     "data": {
      "text/plain": [
       "(200, 6)"
      ]
     },
     "execution_count": 877,
     "metadata": {},
     "output_type": "execute_result"
    }
   ],
   "source": [
    "data.shape\n",
    "#dimensiunea datelor"
   ]
  },
  {
   "cell_type": "code",
   "execution_count": 878,
   "metadata": {},
   "outputs": [
    {
     "data": {
      "text/plain": [
       "Index(['Age', 'Sex', 'BP', 'Cholesterol', 'Na_to_K', 'Drug'], dtype='object')"
      ]
     },
     "execution_count": 878,
     "metadata": {},
     "output_type": "execute_result"
    }
   ],
   "source": [
    "data.columns\n",
    "#coloanele"
   ]
  },
  {
   "cell_type": "code",
   "execution_count": 879,
   "metadata": {},
   "outputs": [
    {
     "data": {
      "text/html": [
       "<div>\n",
       "<style scoped>\n",
       "    .dataframe tbody tr th:only-of-type {\n",
       "        vertical-align: middle;\n",
       "    }\n",
       "\n",
       "    .dataframe tbody tr th {\n",
       "        vertical-align: top;\n",
       "    }\n",
       "\n",
       "    .dataframe thead th {\n",
       "        text-align: right;\n",
       "    }\n",
       "</style>\n",
       "<table border=\"1\" class=\"dataframe\">\n",
       "  <thead>\n",
       "    <tr style=\"text-align: right;\">\n",
       "      <th></th>\n",
       "      <th>Age</th>\n",
       "      <th>Sex</th>\n",
       "      <th>BP</th>\n",
       "      <th>Cholesterol</th>\n",
       "      <th>Na_to_K</th>\n",
       "      <th>Drug</th>\n",
       "    </tr>\n",
       "  </thead>\n",
       "  <tbody>\n",
       "    <tr>\n",
       "      <th>0</th>\n",
       "      <td>23</td>\n",
       "      <td>F</td>\n",
       "      <td>HIGH</td>\n",
       "      <td>HIGH</td>\n",
       "      <td>25.355</td>\n",
       "      <td>DrugY</td>\n",
       "    </tr>\n",
       "    <tr>\n",
       "      <th>1</th>\n",
       "      <td>47</td>\n",
       "      <td>M</td>\n",
       "      <td>LOW</td>\n",
       "      <td>HIGH</td>\n",
       "      <td>13.093</td>\n",
       "      <td>drugC</td>\n",
       "    </tr>\n",
       "    <tr>\n",
       "      <th>2</th>\n",
       "      <td>47</td>\n",
       "      <td>M</td>\n",
       "      <td>LOW</td>\n",
       "      <td>HIGH</td>\n",
       "      <td>10.114</td>\n",
       "      <td>drugC</td>\n",
       "    </tr>\n",
       "    <tr>\n",
       "      <th>3</th>\n",
       "      <td>28</td>\n",
       "      <td>F</td>\n",
       "      <td>NORMAL</td>\n",
       "      <td>HIGH</td>\n",
       "      <td>7.798</td>\n",
       "      <td>drugX</td>\n",
       "    </tr>\n",
       "    <tr>\n",
       "      <th>4</th>\n",
       "      <td>61</td>\n",
       "      <td>F</td>\n",
       "      <td>LOW</td>\n",
       "      <td>HIGH</td>\n",
       "      <td>18.043</td>\n",
       "      <td>DrugY</td>\n",
       "    </tr>\n",
       "  </tbody>\n",
       "</table>\n",
       "</div>"
      ],
      "text/plain": [
       "   Age Sex      BP Cholesterol  Na_to_K   Drug\n",
       "0   23   F    HIGH        HIGH   25.355  DrugY\n",
       "1   47   M     LOW        HIGH   13.093  drugC\n",
       "2   47   M     LOW        HIGH   10.114  drugC\n",
       "3   28   F  NORMAL        HIGH    7.798  drugX\n",
       "4   61   F     LOW        HIGH   18.043  DrugY"
      ]
     },
     "execution_count": 879,
     "metadata": {},
     "output_type": "execute_result"
    }
   ],
   "source": [
    "data.head()\n",
    "#returns top n rows of a DataFrame or Series where n is a user input value"
   ]
  },
  {
   "cell_type": "code",
   "execution_count": 880,
   "metadata": {},
   "outputs": [
    {
     "data": {
      "text/plain": [
       "Age              int64\n",
       "Sex             object\n",
       "BP              object\n",
       "Cholesterol     object\n",
       "Na_to_K        float64\n",
       "Drug            object\n",
       "dtype: object"
      ]
     },
     "execution_count": 880,
     "metadata": {},
     "output_type": "execute_result"
    }
   ],
   "source": [
    "data.dtypes"
   ]
  },
  {
   "cell_type": "markdown",
   "metadata": {},
   "source": [
    "Data exploration"
   ]
  },
  {
   "cell_type": "code",
   "execution_count": 881,
   "metadata": {},
   "outputs": [
    {
     "data": {
      "text/plain": [
       "0      F\n",
       "1      M\n",
       "2      M\n",
       "3      F\n",
       "4      F\n",
       "      ..\n",
       "195    F\n",
       "196    M\n",
       "197    M\n",
       "198    M\n",
       "199    F\n",
       "Name: Sex, Length: 200, dtype: object"
      ]
     },
     "execution_count": 881,
     "metadata": {},
     "output_type": "execute_result"
    }
   ],
   "source": [
    "data['Sex']"
   ]
  },
  {
   "cell_type": "code",
   "execution_count": 882,
   "metadata": {},
   "outputs": [
    {
     "data": {
      "text/plain": [
       "M    104\n",
       "F     96\n",
       "Name: Sex, dtype: int64"
      ]
     },
     "execution_count": 882,
     "metadata": {},
     "output_type": "execute_result"
    }
   ],
   "source": [
    "#Cate peroane sunt de sex feminin respectiv masculin\n",
    "data.Sex.value_counts()"
   ]
  },
  {
   "cell_type": "code",
   "execution_count": 883,
   "metadata": {},
   "outputs": [
    {
     "data": {
      "text/plain": [
       "HIGH      77\n",
       "LOW       64\n",
       "NORMAL    59\n",
       "Name: BP, dtype: int64"
      ]
     },
     "execution_count": 883,
     "metadata": {},
     "output_type": "execute_result"
    }
   ],
   "source": [
    "#Cum este impartit blood pressure-ul in dataset\n",
    "data.BP.value_counts()"
   ]
  },
  {
   "cell_type": "code",
   "execution_count": 884,
   "metadata": {},
   "outputs": [
    {
     "data": {
      "text/plain": [
       "HIGH      103\n",
       "NORMAL     97\n",
       "Name: Cholesterol, dtype: int64"
      ]
     },
     "execution_count": 884,
     "metadata": {},
     "output_type": "execute_result"
    }
   ],
   "source": [
    "data.Cholesterol.value_counts()"
   ]
  },
  {
   "cell_type": "markdown",
   "metadata": {},
   "source": [
    "Distributia datelor in dataset reprezentata ca plot-uri"
   ]
  },
  {
   "cell_type": "code",
   "execution_count": 885,
   "metadata": {},
   "outputs": [
    {
     "data": {
      "image/png": "[encoded data removed]",
      "text/plain": [
       "<Figure size 432x288 with 1 Axes>"
      ]
     },
     "metadata": {},
     "output_type": "display_data"
    }
   ],
   "source": [
    "# Tipul de medicament folosit\n",
    "sns.set_theme(style=\"whitegrid\")\n",
    "sns.countplot(y=\"Drug\", data=data, palette=\"pastel\")\n",
    "plt.ylabel('Drug Type')\n",
    "plt.xlabel('Total')\n",
    "plt.show()"
   ]
  },
  {
   "cell_type": "code",
   "execution_count": 886,
   "metadata": {},
   "outputs": [
    {
     "data": {
      "image/png": "[encoded data removed]",
      "text/plain": [
       "<Figure size 432x288 with 1 Axes>"
      ]
     },
     "metadata": {},
     "output_type": "display_data"
    }
   ],
   "source": [
    "# Sexul distribuit in dataset\n",
    "sns.set_theme(style=\"whitegrid\")\n",
    "sns.countplot(x=\"Sex\", data=data, palette=\"pastel\")\n",
    "plt.xlabel('Gender (F=Female, M=Male)')\n",
    "plt.ylabel('Total')\n",
    "plt.show()"
   ]
  },
  {
   "cell_type": "code",
   "execution_count": 887,
   "metadata": {},
   "outputs": [
    {
     "data": {
      "image/png": "[encoded data removed]",
      "text/plain": [
       "<Figure size 864x360 with 1 Axes>"
      ]
     },
     "metadata": {},
     "output_type": "display_data"
    }
   ],
   "source": [
    "# Distributia sexului in functie de edicamentul administrat\n",
    "pd.crosstab(data.Sex,data.Drug).plot(kind=\"bar\",figsize=(12,5),color=['#ABDEE6','#FEE1E8','#55CBCD','#FFD8BE','#CBAACB'])\n",
    "plt.title('Gender distribution based on Drug type')\n",
    "plt.xlabel('Gender')\n",
    "plt.xticks(rotation=0)\n",
    "plt.ylabel('Frequency')\n",
    "plt.show()"
   ]
  },
  {
   "cell_type": "code",
   "execution_count": 888,
   "metadata": {},
   "outputs": [
    {
     "data": {
      "image/png": "[encoded data removed]",
      "text/plain": [
       "<Figure size 1080x432 with 1 Axes>"
      ]
     },
     "metadata": {},
     "output_type": "display_data"
    }
   ],
   "source": [
    "# Tensiunea in functie de nivelul de colesterol\n",
    "pd.crosstab(data.BP,data.Cholesterol).plot(kind=\"bar\",figsize=(15,6),color=['#F3B0C3','#CCE2CB'])\n",
    "plt.title('Blood Pressure distribution based on Cholesterol')\n",
    "plt.xlabel('Blood Pressure')\n",
    "plt.xticks(rotation=0)\n",
    "plt.ylabel('Frequency')\n",
    "plt.show()"
   ]
  },
  {
   "cell_type": "code",
   "execution_count": 889,
   "metadata": {},
   "outputs": [
    {
     "data": {
      "image/png": "[encoded data removed]",
      "text/plain": [
       "<Figure size 432x288 with 1 Axes>"
      ]
     },
     "metadata": {},
     "output_type": "display_data"
    }
   ],
   "source": [
    "# Distributia sodiului si a potasiului in functie de sex \n",
    "plt.scatter(x=data.Age[data.Sex=='F'], y=data.Na_to_K[(data.Sex=='F')], c=\"#F3B0C3\")\n",
    "plt.scatter(x=data.Age[data.Sex=='M'], y=data.Na_to_K[(data.Sex=='M')], c=\"#ABDEE6\")\n",
    "plt.legend([\"Female\", \"Male\"])\n",
    "plt.xlabel(\"Age\")\n",
    "plt.ylabel(\"Na_to_K\")\n",
    "plt.show()"
   ]
  },
  {
   "cell_type": "markdown",
   "metadata": {},
   "source": [
    "Preprocesare: one hot encoder, label encoder"
   ]
  },
  {
   "cell_type": "code",
   "execution_count": 890,
   "metadata": {},
   "outputs": [],
   "source": [
    "#ONE HOT ENCODER\n",
    "df_1=pd.get_dummies(data=data,columns=[\"BP\",\"Cholesterol\",'Sex'],drop_first=True)"
   ]
  },
  {
   "cell_type": "code",
   "execution_count": 891,
   "metadata": {},
   "outputs": [
    {
     "data": {
      "text/html": [
       "<div>\n",
       "<style scoped>\n",
       "    .dataframe tbody tr th:only-of-type {\n",
       "        vertical-align: middle;\n",
       "    }\n",
       "\n",
       "    .dataframe tbody tr th {\n",
       "        vertical-align: top;\n",
       "    }\n",
       "\n",
       "    .dataframe thead th {\n",
       "        text-align: right;\n",
       "    }\n",
       "</style>\n",
       "<table border=\"1\" class=\"dataframe\">\n",
       "  <thead>\n",
       "    <tr style=\"text-align: right;\">\n",
       "      <th></th>\n",
       "      <th>Age</th>\n",
       "      <th>Na_to_K</th>\n",
       "      <th>Drug</th>\n",
       "      <th>BP_LOW</th>\n",
       "      <th>BP_NORMAL</th>\n",
       "      <th>Cholesterol_NORMAL</th>\n",
       "      <th>Sex_M</th>\n",
       "    </tr>\n",
       "  </thead>\n",
       "  <tbody>\n",
       "    <tr>\n",
       "      <th>0</th>\n",
       "      <td>23</td>\n",
       "      <td>25.355</td>\n",
       "      <td>DrugY</td>\n",
       "      <td>0</td>\n",
       "      <td>0</td>\n",
       "      <td>0</td>\n",
       "      <td>0</td>\n",
       "    </tr>\n",
       "    <tr>\n",
       "      <th>1</th>\n",
       "      <td>47</td>\n",
       "      <td>13.093</td>\n",
       "      <td>drugC</td>\n",
       "      <td>1</td>\n",
       "      <td>0</td>\n",
       "      <td>0</td>\n",
       "      <td>1</td>\n",
       "    </tr>\n",
       "    <tr>\n",
       "      <th>2</th>\n",
       "      <td>47</td>\n",
       "      <td>10.114</td>\n",
       "      <td>drugC</td>\n",
       "      <td>1</td>\n",
       "      <td>0</td>\n",
       "      <td>0</td>\n",
       "      <td>1</td>\n",
       "    </tr>\n",
       "    <tr>\n",
       "      <th>3</th>\n",
       "      <td>28</td>\n",
       "      <td>7.798</td>\n",
       "      <td>drugX</td>\n",
       "      <td>0</td>\n",
       "      <td>1</td>\n",
       "      <td>0</td>\n",
       "      <td>0</td>\n",
       "    </tr>\n",
       "    <tr>\n",
       "      <th>4</th>\n",
       "      <td>61</td>\n",
       "      <td>18.043</td>\n",
       "      <td>DrugY</td>\n",
       "      <td>1</td>\n",
       "      <td>0</td>\n",
       "      <td>0</td>\n",
       "      <td>0</td>\n",
       "    </tr>\n",
       "  </tbody>\n",
       "</table>\n",
       "</div>"
      ],
      "text/plain": [
       "   Age  Na_to_K   Drug  BP_LOW  BP_NORMAL  Cholesterol_NORMAL  Sex_M\n",
       "0   23   25.355  DrugY       0          0                   0      0\n",
       "1   47   13.093  drugC       1          0                   0      1\n",
       "2   47   10.114  drugC       1          0                   0      1\n",
       "3   28    7.798  drugX       0          1                   0      0\n",
       "4   61   18.043  DrugY       1          0                   0      0"
      ]
     },
     "execution_count": 891,
     "metadata": {},
     "output_type": "execute_result"
    }
   ],
   "source": [
    "df_1.head()"
   ]
  },
  {
   "cell_type": "code",
   "execution_count": 892,
   "metadata": {},
   "outputs": [
    {
     "data": {
      "text/html": [
       "<div>\n",
       "<style scoped>\n",
       "    .dataframe tbody tr th:only-of-type {\n",
       "        vertical-align: middle;\n",
       "    }\n",
       "\n",
       "    .dataframe tbody tr th {\n",
       "        vertical-align: top;\n",
       "    }\n",
       "\n",
       "    .dataframe thead th {\n",
       "        text-align: right;\n",
       "    }\n",
       "</style>\n",
       "<table border=\"1\" class=\"dataframe\">\n",
       "  <thead>\n",
       "    <tr style=\"text-align: right;\">\n",
       "      <th></th>\n",
       "      <th>Age</th>\n",
       "      <th>Na_to_K</th>\n",
       "      <th>Drug</th>\n",
       "      <th>BP_LOW</th>\n",
       "      <th>BP_NORMAL</th>\n",
       "      <th>Cholesterol_NORMAL</th>\n",
       "      <th>Sex_M</th>\n",
       "    </tr>\n",
       "  </thead>\n",
       "  <tbody>\n",
       "    <tr>\n",
       "      <th>0</th>\n",
       "      <td>23</td>\n",
       "      <td>25.355</td>\n",
       "      <td>0</td>\n",
       "      <td>0</td>\n",
       "      <td>0</td>\n",
       "      <td>0</td>\n",
       "      <td>0</td>\n",
       "    </tr>\n",
       "    <tr>\n",
       "      <th>1</th>\n",
       "      <td>47</td>\n",
       "      <td>13.093</td>\n",
       "      <td>3</td>\n",
       "      <td>1</td>\n",
       "      <td>0</td>\n",
       "      <td>0</td>\n",
       "      <td>1</td>\n",
       "    </tr>\n",
       "    <tr>\n",
       "      <th>2</th>\n",
       "      <td>47</td>\n",
       "      <td>10.114</td>\n",
       "      <td>3</td>\n",
       "      <td>1</td>\n",
       "      <td>0</td>\n",
       "      <td>0</td>\n",
       "      <td>1</td>\n",
       "    </tr>\n",
       "    <tr>\n",
       "      <th>3</th>\n",
       "      <td>28</td>\n",
       "      <td>7.798</td>\n",
       "      <td>4</td>\n",
       "      <td>0</td>\n",
       "      <td>1</td>\n",
       "      <td>0</td>\n",
       "      <td>0</td>\n",
       "    </tr>\n",
       "    <tr>\n",
       "      <th>4</th>\n",
       "      <td>61</td>\n",
       "      <td>18.043</td>\n",
       "      <td>0</td>\n",
       "      <td>1</td>\n",
       "      <td>0</td>\n",
       "      <td>0</td>\n",
       "      <td>0</td>\n",
       "    </tr>\n",
       "    <tr>\n",
       "      <th>...</th>\n",
       "      <td>...</td>\n",
       "      <td>...</td>\n",
       "      <td>...</td>\n",
       "      <td>...</td>\n",
       "      <td>...</td>\n",
       "      <td>...</td>\n",
       "      <td>...</td>\n",
       "    </tr>\n",
       "    <tr>\n",
       "      <th>195</th>\n",
       "      <td>56</td>\n",
       "      <td>11.567</td>\n",
       "      <td>3</td>\n",
       "      <td>1</td>\n",
       "      <td>0</td>\n",
       "      <td>0</td>\n",
       "      <td>0</td>\n",
       "    </tr>\n",
       "    <tr>\n",
       "      <th>196</th>\n",
       "      <td>16</td>\n",
       "      <td>12.006</td>\n",
       "      <td>3</td>\n",
       "      <td>1</td>\n",
       "      <td>0</td>\n",
       "      <td>0</td>\n",
       "      <td>1</td>\n",
       "    </tr>\n",
       "    <tr>\n",
       "      <th>197</th>\n",
       "      <td>52</td>\n",
       "      <td>9.894</td>\n",
       "      <td>4</td>\n",
       "      <td>0</td>\n",
       "      <td>1</td>\n",
       "      <td>0</td>\n",
       "      <td>1</td>\n",
       "    </tr>\n",
       "    <tr>\n",
       "      <th>198</th>\n",
       "      <td>23</td>\n",
       "      <td>14.020</td>\n",
       "      <td>4</td>\n",
       "      <td>0</td>\n",
       "      <td>1</td>\n",
       "      <td>1</td>\n",
       "      <td>1</td>\n",
       "    </tr>\n",
       "    <tr>\n",
       "      <th>199</th>\n",
       "      <td>40</td>\n",
       "      <td>11.349</td>\n",
       "      <td>4</td>\n",
       "      <td>1</td>\n",
       "      <td>0</td>\n",
       "      <td>1</td>\n",
       "      <td>0</td>\n",
       "    </tr>\n",
       "  </tbody>\n",
       "</table>\n",
       "<p>200 rows × 7 columns</p>\n",
       "</div>"
      ],
      "text/plain": [
       "     Age  Na_to_K  Drug  BP_LOW  BP_NORMAL  Cholesterol_NORMAL  Sex_M\n",
       "0     23   25.355     0       0          0                   0      0\n",
       "1     47   13.093     3       1          0                   0      1\n",
       "2     47   10.114     3       1          0                   0      1\n",
       "3     28    7.798     4       0          1                   0      0\n",
       "4     61   18.043     0       1          0                   0      0\n",
       "..   ...      ...   ...     ...        ...                 ...    ...\n",
       "195   56   11.567     3       1          0                   0      0\n",
       "196   16   12.006     3       1          0                   0      1\n",
       "197   52    9.894     4       0          1                   0      1\n",
       "198   23   14.020     4       0          1                   1      1\n",
       "199   40   11.349     4       1          0                   1      0\n",
       "\n",
       "[200 rows x 7 columns]"
      ]
     },
     "execution_count": 892,
     "metadata": {},
     "output_type": "execute_result"
    }
   ],
   "source": [
    "#Label encoder\n",
    "c1='Drug'\n",
    "label_encoder = LabelEncoder() \n",
    "df_1[c1]= label_encoder.fit_transform(df_1[c1]) \n",
    "df_1[c1].unique()\n",
    "df_1"
   ]
  },
  {
   "cell_type": "markdown",
   "metadata": {},
   "source": [
    "Impartirea datelor in train si test"
   ]
  },
  {
   "cell_type": "code",
   "execution_count": 893,
   "metadata": {},
   "outputs": [],
   "source": [
    "# Split data into training and test\n",
    "X = df_1.drop(['Drug','Age'],axis = 1)\n",
    "y = df_1['Drug']"
   ]
  },
  {
   "cell_type": "code",
   "execution_count": 894,
   "metadata": {},
   "outputs": [],
   "source": [
    "\n",
    "X_train, X_test, y_train, y_test = train_test_split(X, y, test_size = 0.33, random_state = 42)"
   ]
  },
  {
   "cell_type": "code",
   "execution_count": 895,
   "metadata": {},
   "outputs": [
    {
     "data": {
      "text/plain": [
       "(134, 5)"
      ]
     },
     "execution_count": 895,
     "metadata": {},
     "output_type": "execute_result"
    }
   ],
   "source": [
    "X_train.shape"
   ]
  },
  {
   "cell_type": "code",
   "execution_count": 896,
   "metadata": {},
   "outputs": [
    {
     "data": {
      "text/plain": [
       "(134,)"
      ]
     },
     "execution_count": 896,
     "metadata": {},
     "output_type": "execute_result"
    }
   ],
   "source": [
    "y_train.shape"
   ]
  },
  {
   "cell_type": "code",
   "execution_count": 897,
   "metadata": {},
   "outputs": [
    {
     "data": {
      "text/plain": [
       "(66, 5)"
      ]
     },
     "execution_count": 897,
     "metadata": {},
     "output_type": "execute_result"
    }
   ],
   "source": [
    "X_test.shape"
   ]
  },
  {
   "cell_type": "code",
   "execution_count": 898,
   "metadata": {},
   "outputs": [
    {
     "data": {
      "text/plain": [
       "(66,)"
      ]
     },
     "execution_count": 898,
     "metadata": {},
     "output_type": "execute_result"
    }
   ],
   "source": [
    "y_test.shape"
   ]
  },
  {
   "cell_type": "markdown",
   "metadata": {},
   "source": [
    "KNN -Nr of neighbors:15"
   ]
  },
  {
   "cell_type": "code",
   "execution_count": 899,
   "metadata": {},
   "outputs": [
    {
     "data": {
      "text/plain": [
       "KNeighborsClassifier(n_neighbors=15)"
      ]
     },
     "execution_count": 899,
     "metadata": {},
     "output_type": "execute_result"
    }
   ],
   "source": [
    "#aplicare algoritm KNN pe dataset cu  numarul de vecini 15\n",
    "KNN_15 = KNeighborsClassifier(n_neighbors=15)\n",
    "KNN_15"
   ]
  },
  {
   "cell_type": "code",
   "execution_count": 900,
   "metadata": {},
   "outputs": [
    {
     "data": {
      "text/plain": [
       "KNeighborsClassifier(n_neighbors=15)"
      ]
     },
     "execution_count": 900,
     "metadata": {},
     "output_type": "execute_result"
    }
   ],
   "source": [
    "KNN_15.fit(X_train,y_train)"
   ]
  },
  {
   "cell_type": "code",
   "execution_count": 901,
   "metadata": {},
   "outputs": [
    {
     "name": "stdout",
     "output_type": "stream",
     "text": [
      "     Na_to_K  BP_LOW  BP_NORMAL  Cholesterol_NORMAL  Sex_M\n",
      "42    15.790       0          1                   1      1\n",
      "189   20.932       0          0                   1      1\n",
      "90    16.594       0          1                   0      1\n",
      "136   10.977       0          0                   0      0\n",
      "51    10.898       0          1                   1      1\n",
      "..       ...     ...        ...                 ...    ...\n",
      "106   11.953       0          1                   0      1\n",
      "14    12.703       0          1                   0      0\n",
      "92    29.450       0          0                   0      0\n",
      "179   15.891       0          1                   0      0\n",
      "102   13.127       1          0                   0      0\n",
      "\n",
      "[134 rows x 5 columns]\n",
      "42     0\n",
      "189    0\n",
      "90     0\n",
      "136    2\n",
      "51     4\n",
      "      ..\n",
      "106    4\n",
      "14     4\n",
      "92     0\n",
      "179    0\n",
      "102    3\n",
      "Name: Drug, Length: 134, dtype: int32\n"
     ]
    }
   ],
   "source": [
    "print(X_train)\n",
    "print(y_train)"
   ]
  },
  {
   "cell_type": "markdown",
   "metadata": {},
   "source": [
    "Prediction"
   ]
  },
  {
   "cell_type": "code",
   "execution_count": 902,
   "metadata": {},
   "outputs": [],
   "source": [
    "# PREDICTION\n",
    "pred = KNN_15.predict(X_test)"
   ]
  },
  {
   "cell_type": "code",
   "execution_count": 903,
   "metadata": {},
   "outputs": [
    {
     "data": {
      "text/plain": [
       "array([4, 0, 4, 3, 0, 0, 0, 4, 1, 4, 1, 1, 0, 2, 1, 0, 1, 4, 4, 0, 4, 4,\n",
       "       4, 0, 0, 0, 4, 4, 0, 4, 0, 4, 2, 0, 4, 0, 4, 1, 0, 1, 1, 4, 4, 0,\n",
       "       0, 3, 0, 0, 0, 4, 4, 0, 4, 0, 4, 0, 4, 0, 0, 0, 1, 0, 1, 0, 4, 0])"
      ]
     },
     "execution_count": 903,
     "metadata": {},
     "output_type": "execute_result"
    }
   ],
   "source": [
    "pred"
   ]
  },
  {
   "cell_type": "code",
   "execution_count": 904,
   "metadata": {},
   "outputs": [
    {
     "name": "stdout",
     "output_type": "stream",
     "text": [
      "[4 0 4 3 0]\n",
      "95     4\n",
      "15     0\n",
      "30     4\n",
      "158    3\n",
      "128    0\n",
      "Name: Drug, dtype: int32\n"
     ]
    }
   ],
   "source": [
    "# compare the result of predtree with y_test set\n",
    "print(pred[0:5])\n",
    "print(y_test[0:5])"
   ]
  },
  {
   "cell_type": "code",
   "execution_count": 905,
   "metadata": {},
   "outputs": [
    {
     "data": {
      "text/plain": [
       "array([[0.        , 0.26666667, 0.13333333, 0.26666667, 0.33333333],\n",
       "       [0.86666667, 0.        , 0.06666667, 0.        , 0.06666667],\n",
       "       [0.        , 0.13333333, 0.2       , 0.        , 0.66666667],\n",
       "       [0.        , 0.13333333, 0.2       , 0.33333333, 0.33333333],\n",
       "       [1.        , 0.        , 0.        , 0.        , 0.        ],\n",
       "       [1.        , 0.        , 0.        , 0.        , 0.        ],\n",
       "       [1.        , 0.        , 0.        , 0.        , 0.        ],\n",
       "       [0.        , 0.2       , 0.06666667, 0.13333333, 0.6       ],\n",
       "       [0.        , 0.33333333, 0.26666667, 0.06666667, 0.33333333],\n",
       "       [0.        , 0.13333333, 0.06666667, 0.        , 0.8       ],\n",
       "       [0.        , 0.26666667, 0.26666667, 0.2       , 0.26666667],\n",
       "       [0.        , 0.33333333, 0.13333333, 0.2       , 0.33333333],\n",
       "       [1.        , 0.        , 0.        , 0.        , 0.        ],\n",
       "       [0.        , 0.26666667, 0.33333333, 0.13333333, 0.26666667],\n",
       "       [0.        , 0.33333333, 0.2       , 0.2       , 0.26666667],\n",
       "       [1.        , 0.        , 0.        , 0.        , 0.        ],\n",
       "       [0.        , 0.46666667, 0.26666667, 0.06666667, 0.2       ],\n",
       "       [0.        , 0.13333333, 0.06666667, 0.13333333, 0.66666667],\n",
       "       [0.        , 0.2       , 0.2       , 0.26666667, 0.33333333],\n",
       "       [1.        , 0.        , 0.        , 0.        , 0.        ],\n",
       "       [0.        , 0.33333333, 0.13333333, 0.13333333, 0.4       ],\n",
       "       [0.        , 0.26666667, 0.13333333, 0.26666667, 0.33333333],\n",
       "       [0.        , 0.2       , 0.06666667, 0.13333333, 0.6       ],\n",
       "       [1.        , 0.        , 0.        , 0.        , 0.        ],\n",
       "       [1.        , 0.        , 0.        , 0.        , 0.        ],\n",
       "       [1.        , 0.        , 0.        , 0.        , 0.        ],\n",
       "       [0.        , 0.2       , 0.2       , 0.26666667, 0.33333333],\n",
       "       [0.        , 0.4       , 0.13333333, 0.        , 0.46666667],\n",
       "       [1.        , 0.        , 0.        , 0.        , 0.        ],\n",
       "       [0.06666667, 0.06666667, 0.33333333, 0.13333333, 0.4       ],\n",
       "       [1.        , 0.        , 0.        , 0.        , 0.        ],\n",
       "       [0.        , 0.13333333, 0.06666667, 0.13333333, 0.66666667],\n",
       "       [0.13333333, 0.06666667, 0.33333333, 0.13333333, 0.33333333],\n",
       "       [1.        , 0.        , 0.        , 0.        , 0.        ],\n",
       "       [0.        , 0.26666667, 0.13333333, 0.06666667, 0.53333333],\n",
       "       [1.        , 0.        , 0.        , 0.        , 0.        ],\n",
       "       [0.        , 0.26666667, 0.13333333, 0.26666667, 0.33333333],\n",
       "       [0.        , 0.26666667, 0.26666667, 0.2       , 0.26666667],\n",
       "       [1.        , 0.        , 0.        , 0.        , 0.        ],\n",
       "       [0.        , 0.33333333, 0.26666667, 0.13333333, 0.26666667],\n",
       "       [0.        , 0.26666667, 0.26666667, 0.2       , 0.26666667],\n",
       "       [0.        , 0.2       , 0.06666667, 0.13333333, 0.6       ],\n",
       "       [0.        , 0.2       , 0.2       , 0.        , 0.6       ],\n",
       "       [1.        , 0.        , 0.        , 0.        , 0.        ],\n",
       "       [1.        , 0.        , 0.        , 0.        , 0.        ],\n",
       "       [0.        , 0.2       , 0.13333333, 0.4       , 0.26666667],\n",
       "       [1.        , 0.        , 0.        , 0.        , 0.        ],\n",
       "       [1.        , 0.        , 0.        , 0.        , 0.        ],\n",
       "       [0.8       , 0.        , 0.06666667, 0.        , 0.13333333],\n",
       "       [0.        , 0.2       , 0.33333333, 0.06666667, 0.4       ],\n",
       "       [0.        , 0.2       , 0.26666667, 0.        , 0.53333333],\n",
       "       [1.        , 0.        , 0.        , 0.        , 0.        ],\n",
       "       [0.        , 0.2       , 0.06666667, 0.06666667, 0.66666667],\n",
       "       [1.        , 0.        , 0.        , 0.        , 0.        ],\n",
       "       [0.        , 0.2       , 0.2       , 0.        , 0.6       ],\n",
       "       [1.        , 0.        , 0.        , 0.        , 0.        ],\n",
       "       [0.        , 0.13333333, 0.06666667, 0.13333333, 0.66666667],\n",
       "       [1.        , 0.        , 0.        , 0.        , 0.        ],\n",
       "       [1.        , 0.        , 0.        , 0.        , 0.        ],\n",
       "       [1.        , 0.        , 0.        , 0.        , 0.        ],\n",
       "       [0.        , 0.4       , 0.26666667, 0.13333333, 0.2       ],\n",
       "       [1.        , 0.        , 0.        , 0.        , 0.        ],\n",
       "       [0.        , 0.33333333, 0.2       , 0.2       , 0.26666667],\n",
       "       [0.6       , 0.06666667, 0.2       , 0.        , 0.13333333],\n",
       "       [0.        , 0.13333333, 0.06666667, 0.13333333, 0.66666667],\n",
       "       [1.        , 0.        , 0.        , 0.        , 0.        ]])"
      ]
     },
     "execution_count": 905,
     "metadata": {},
     "output_type": "execute_result"
    }
   ],
   "source": [
    "KNN_15.predict_proba(X_test)"
   ]
  },
  {
   "cell_type": "code",
   "execution_count": 906,
   "metadata": {},
   "outputs": [
    {
     "name": "stdout",
     "output_type": "stream",
     "text": [
      "Accuracy score for knn Classifier nr neighb=15:\n",
      "0.815\n"
     ]
    }
   ],
   "source": [
    " #Return the mean accuracy on the given test data and labels\n",
    "print(\"Accuracy score for knn Classifier nr neighb=15:\")\n",
    "print(KNN_15.score(X,y))\n",
    "\n"
   ]
  },
  {
   "cell_type": "markdown",
   "metadata": {},
   "source": [
    "METRICS: confusion metrics, f1_score, recall_score, precison_score, accuracy score, classficiation report"
   ]
  },
  {
   "cell_type": "code",
   "execution_count": 907,
   "metadata": {},
   "outputs": [
    {
     "data": {
      "text/plain": [
       "<AxesSubplot:>"
      ]
     },
     "execution_count": 907,
     "metadata": {},
     "output_type": "execute_result"
    },
    {
     "data": {
      "image/png": "[encoded data removed]",
      "text/plain": [
       "<Figure size 432x288 with 2 Axes>"
      ]
     },
     "metadata": {},
     "output_type": "display_data"
    }
   ],
   "source": [
    "#METRICA 1- confusion matrix\n",
    "sns.heatmap(confusion_matrix(y_test, pred),annot=True)\n"
   ]
  },
  {
   "cell_type": "code",
   "execution_count": 908,
   "metadata": {},
   "outputs": [
    {
     "name": "stdout",
     "output_type": "stream",
     "text": [
      "F1 score for KNN_15 is:\n"
     ]
    },
    {
     "data": {
      "text/plain": [
       "0.573015873015873"
      ]
     },
     "execution_count": 908,
     "metadata": {},
     "output_type": "execute_result"
    }
   ],
   "source": [
    "\n",
    "#METRICA 2- f1_score\n",
    "#F1 = 2 * (precision * recall) / (precision + recall)\n",
    "print(\"F1 score for KNN_15 is:\")\n",
    "k15_f1 = f1_score(y_test, pred, average='macro')\n",
    "k15_f1\n"
   ]
  },
  {
   "cell_type": "code",
   "execution_count": 909,
   "metadata": {},
   "outputs": [
    {
     "data": {
      "text/plain": [
       "array([1.        , 0.625     , 0.        , 0.33333333, 0.89473684])"
      ]
     },
     "execution_count": 909,
     "metadata": {},
     "output_type": "execute_result"
    }
   ],
   "source": [
    "#METRICA 3-recall_score\n",
    "k15_recall = recall_score(y_test,pred,average=None)\n",
    "k15_recall"
   ]
  },
  {
   "cell_type": "code",
   "execution_count": 910,
   "metadata": {},
   "outputs": [
    {
     "data": {
      "text/plain": [
       "0.803030303030303"
      ]
     },
     "execution_count": 910,
     "metadata": {},
     "output_type": "execute_result"
    }
   ],
   "source": [
    "#METRICA 4- accuracy score:this function computes subset accuracy: the set of labels predicted for a sample \n",
    "# must exactly match the corresponding set of labels in y_test.\n",
    "k15_acc = accuracy_score(y_test,pred)\n",
    "k15_acc"
   ]
  },
  {
   "cell_type": "code",
   "execution_count": 911,
   "metadata": {},
   "outputs": [
    {
     "name": "stdout",
     "output_type": "stream",
     "text": [
      "[1.         0.5        0.         1.         0.73913043]\n"
     ]
    }
   ],
   "source": [
    "\n",
    "#METRICA 5- Precision\n",
    "#Precision explains how many of the correctly predicted cases actually turned out to be positive\n",
    "print(precision_score(y_test, pred, average=None))\n",
    "k15_precision = precision_score(y_test, pred, average=None)"
   ]
  },
  {
   "cell_type": "markdown",
   "metadata": {},
   "source": [
    "Classification report: KNN_15"
   ]
  },
  {
   "cell_type": "code",
   "execution_count": 912,
   "metadata": {},
   "outputs": [
    {
     "name": "stdout",
     "output_type": "stream",
     "text": [
      "              precision    recall  f1-score   support\n",
      "\n",
      "           0       1.00      1.00      1.00        29\n",
      "           1       0.50      0.62      0.56         8\n",
      "           2       0.00      0.00      0.00         4\n",
      "           3       1.00      0.33      0.50         6\n",
      "           4       0.74      0.89      0.81        19\n",
      "\n",
      "    accuracy                           0.80        66\n",
      "   macro avg       0.65      0.57      0.57        66\n",
      "weighted avg       0.80      0.80      0.79        66\n",
      "\n"
     ]
    }
   ],
   "source": [
    "#classification_report:Build a text report showing the main classification metrics.\n",
    "print(classification_report(y_test,pred))"
   ]
  },
  {
   "cell_type": "markdown",
   "metadata": {},
   "source": [
    "KNN -Nr of neighbors:10"
   ]
  },
  {
   "cell_type": "code",
   "execution_count": 913,
   "metadata": {},
   "outputs": [],
   "source": [
    "X = df_1.drop(['Drug','Age'],axis = 1)\n",
    "y = df_1['Drug']\n",
    "X_train, X_test, y_train, y_test = train_test_split(X, y, test_size = 0.33, random_state = 42)"
   ]
  },
  {
   "cell_type": "code",
   "execution_count": 914,
   "metadata": {},
   "outputs": [
    {
     "data": {
      "text/plain": [
       "KNeighborsClassifier(n_neighbors=10)"
      ]
     },
     "execution_count": 914,
     "metadata": {},
     "output_type": "execute_result"
    }
   ],
   "source": [
    "\n",
    "KNN_10 = KNeighborsClassifier(n_neighbors=10)\n",
    "KNN_10\n",
    "\n"
   ]
  },
  {
   "cell_type": "code",
   "execution_count": 915,
   "metadata": {},
   "outputs": [
    {
     "data": {
      "text/plain": [
       "KNeighborsClassifier(n_neighbors=10)"
      ]
     },
     "execution_count": 915,
     "metadata": {},
     "output_type": "execute_result"
    }
   ],
   "source": [
    "KNN_10.fit(X_train, y_train)"
   ]
  },
  {
   "cell_type": "code",
   "execution_count": 916,
   "metadata": {},
   "outputs": [
    {
     "data": {
      "text/html": [
       "<div>\n",
       "<style scoped>\n",
       "    .dataframe tbody tr th:only-of-type {\n",
       "        vertical-align: middle;\n",
       "    }\n",
       "\n",
       "    .dataframe tbody tr th {\n",
       "        vertical-align: top;\n",
       "    }\n",
       "\n",
       "    .dataframe thead th {\n",
       "        text-align: right;\n",
       "    }\n",
       "</style>\n",
       "<table border=\"1\" class=\"dataframe\">\n",
       "  <thead>\n",
       "    <tr style=\"text-align: right;\">\n",
       "      <th></th>\n",
       "      <th>Na_to_K</th>\n",
       "      <th>BP_LOW</th>\n",
       "      <th>BP_NORMAL</th>\n",
       "      <th>Cholesterol_NORMAL</th>\n",
       "      <th>Sex_M</th>\n",
       "    </tr>\n",
       "  </thead>\n",
       "  <tbody>\n",
       "    <tr>\n",
       "      <th>42</th>\n",
       "      <td>15.790</td>\n",
       "      <td>0</td>\n",
       "      <td>1</td>\n",
       "      <td>1</td>\n",
       "      <td>1</td>\n",
       "    </tr>\n",
       "    <tr>\n",
       "      <th>189</th>\n",
       "      <td>20.932</td>\n",
       "      <td>0</td>\n",
       "      <td>0</td>\n",
       "      <td>1</td>\n",
       "      <td>1</td>\n",
       "    </tr>\n",
       "    <tr>\n",
       "      <th>90</th>\n",
       "      <td>16.594</td>\n",
       "      <td>0</td>\n",
       "      <td>1</td>\n",
       "      <td>0</td>\n",
       "      <td>1</td>\n",
       "    </tr>\n",
       "    <tr>\n",
       "      <th>136</th>\n",
       "      <td>10.977</td>\n",
       "      <td>0</td>\n",
       "      <td>0</td>\n",
       "      <td>0</td>\n",
       "      <td>0</td>\n",
       "    </tr>\n",
       "    <tr>\n",
       "      <th>51</th>\n",
       "      <td>10.898</td>\n",
       "      <td>0</td>\n",
       "      <td>1</td>\n",
       "      <td>1</td>\n",
       "      <td>1</td>\n",
       "    </tr>\n",
       "    <tr>\n",
       "      <th>...</th>\n",
       "      <td>...</td>\n",
       "      <td>...</td>\n",
       "      <td>...</td>\n",
       "      <td>...</td>\n",
       "      <td>...</td>\n",
       "    </tr>\n",
       "    <tr>\n",
       "      <th>106</th>\n",
       "      <td>11.953</td>\n",
       "      <td>0</td>\n",
       "      <td>1</td>\n",
       "      <td>0</td>\n",
       "      <td>1</td>\n",
       "    </tr>\n",
       "    <tr>\n",
       "      <th>14</th>\n",
       "      <td>12.703</td>\n",
       "      <td>0</td>\n",
       "      <td>1</td>\n",
       "      <td>0</td>\n",
       "      <td>0</td>\n",
       "    </tr>\n",
       "    <tr>\n",
       "      <th>92</th>\n",
       "      <td>29.450</td>\n",
       "      <td>0</td>\n",
       "      <td>0</td>\n",
       "      <td>0</td>\n",
       "      <td>0</td>\n",
       "    </tr>\n",
       "    <tr>\n",
       "      <th>179</th>\n",
       "      <td>15.891</td>\n",
       "      <td>0</td>\n",
       "      <td>1</td>\n",
       "      <td>0</td>\n",
       "      <td>0</td>\n",
       "    </tr>\n",
       "    <tr>\n",
       "      <th>102</th>\n",
       "      <td>13.127</td>\n",
       "      <td>1</td>\n",
       "      <td>0</td>\n",
       "      <td>0</td>\n",
       "      <td>0</td>\n",
       "    </tr>\n",
       "  </tbody>\n",
       "</table>\n",
       "<p>134 rows × 5 columns</p>\n",
       "</div>"
      ],
      "text/plain": [
       "     Na_to_K  BP_LOW  BP_NORMAL  Cholesterol_NORMAL  Sex_M\n",
       "42    15.790       0          1                   1      1\n",
       "189   20.932       0          0                   1      1\n",
       "90    16.594       0          1                   0      1\n",
       "136   10.977       0          0                   0      0\n",
       "51    10.898       0          1                   1      1\n",
       "..       ...     ...        ...                 ...    ...\n",
       "106   11.953       0          1                   0      1\n",
       "14    12.703       0          1                   0      0\n",
       "92    29.450       0          0                   0      0\n",
       "179   15.891       0          1                   0      0\n",
       "102   13.127       1          0                   0      0\n",
       "\n",
       "[134 rows x 5 columns]"
      ]
     },
     "execution_count": 916,
     "metadata": {},
     "output_type": "execute_result"
    }
   ],
   "source": [
    "X_train"
   ]
  },
  {
   "cell_type": "code",
   "execution_count": 917,
   "metadata": {},
   "outputs": [
    {
     "data": {
      "text/plain": [
       "42     0\n",
       "189    0\n",
       "90     0\n",
       "136    2\n",
       "51     4\n",
       "      ..\n",
       "106    4\n",
       "14     4\n",
       "92     0\n",
       "179    0\n",
       "102    3\n",
       "Name: Drug, Length: 134, dtype: int32"
      ]
     },
     "execution_count": 917,
     "metadata": {},
     "output_type": "execute_result"
    }
   ],
   "source": [
    "y_train"
   ]
  },
  {
   "cell_type": "code",
   "execution_count": 918,
   "metadata": {},
   "outputs": [],
   "source": [
    "pred2 = KNN_10.predict(X_test)"
   ]
  },
  {
   "cell_type": "code",
   "execution_count": 919,
   "metadata": {},
   "outputs": [
    {
     "data": {
      "text/plain": [
       "array([1, 0, 4, 3, 0, 0, 0, 4, 1, 4, 2, 4, 0, 2, 1, 0, 1, 4, 3, 0, 1, 1,\n",
       "       4, 0, 0, 0, 3, 4, 0, 4, 0, 4, 2, 0, 4, 0, 4, 1, 0, 1, 4, 4, 4, 0,\n",
       "       0, 3, 0, 0, 0, 2, 4, 0, 4, 0, 4, 0, 4, 0, 0, 0, 1, 0, 1, 0, 4, 0])"
      ]
     },
     "execution_count": 919,
     "metadata": {},
     "output_type": "execute_result"
    }
   ],
   "source": [
    "pred2"
   ]
  },
  {
   "cell_type": "code",
   "execution_count": 920,
   "metadata": {},
   "outputs": [
    {
     "name": "stdout",
     "output_type": "stream",
     "text": [
      "[1 0 4 3 0]\n",
      "95     4\n",
      "15     0\n",
      "30     4\n",
      "158    3\n",
      "128    0\n",
      "Name: Drug, dtype: int32\n"
     ]
    }
   ],
   "source": [
    "# compare the result of predtree with y_test set\n",
    "print(pred2[0:5])\n",
    "print(y_test[0:5])"
   ]
  },
  {
   "cell_type": "code",
   "execution_count": 921,
   "metadata": {},
   "outputs": [
    {
     "data": {
      "text/plain": [
       "array([[0. , 0.3, 0.1, 0.3, 0.3],\n",
       "       [0.8, 0. , 0.1, 0. , 0.1],\n",
       "       [0. , 0.1, 0.2, 0. , 0.7],\n",
       "       [0. , 0.2, 0.1, 0.5, 0.2],\n",
       "       [1. , 0. , 0. , 0. , 0. ],\n",
       "       [1. , 0. , 0. , 0. , 0. ],\n",
       "       [1. , 0. , 0. , 0. , 0. ],\n",
       "       [0. , 0.2, 0.1, 0. , 0.7],\n",
       "       [0. , 0.4, 0.1, 0.1, 0.4],\n",
       "       [0. , 0. , 0.1, 0. , 0.9],\n",
       "       [0. , 0.3, 0.4, 0.2, 0.1],\n",
       "       [0. , 0.3, 0.1, 0.2, 0.4],\n",
       "       [1. , 0. , 0. , 0. , 0. ],\n",
       "       [0. , 0.3, 0.4, 0.1, 0.2],\n",
       "       [0. , 0.5, 0.2, 0.2, 0.1],\n",
       "       [1. , 0. , 0. , 0. , 0. ],\n",
       "       [0. , 0.6, 0.2, 0. , 0.2],\n",
       "       [0. , 0.2, 0.1, 0.1, 0.6],\n",
       "       [0. , 0.2, 0.2, 0.3, 0.3],\n",
       "       [1. , 0. , 0. , 0. , 0. ],\n",
       "       [0. , 0.5, 0.1, 0. , 0.4],\n",
       "       [0. , 0.3, 0.1, 0.3, 0.3],\n",
       "       [0. , 0.2, 0.1, 0.2, 0.5],\n",
       "       [1. , 0. , 0. , 0. , 0. ],\n",
       "       [1. , 0. , 0. , 0. , 0. ],\n",
       "       [1. , 0. , 0. , 0. , 0. ],\n",
       "       [0. , 0.1, 0.3, 0.4, 0.2],\n",
       "       [0. , 0.3, 0.2, 0. , 0.5],\n",
       "       [1. , 0. , 0. , 0. , 0. ],\n",
       "       [0. , 0.1, 0.3, 0.1, 0.5],\n",
       "       [1. , 0. , 0. , 0. , 0. ],\n",
       "       [0. , 0.2, 0.1, 0.2, 0.5],\n",
       "       [0.2, 0.1, 0.3, 0.1, 0.3],\n",
       "       [1. , 0. , 0. , 0. , 0. ],\n",
       "       [0. , 0.3, 0.2, 0. , 0.5],\n",
       "       [1. , 0. , 0. , 0. , 0. ],\n",
       "       [0. , 0.2, 0.1, 0.3, 0.4],\n",
       "       [0. , 0.3, 0.2, 0.2, 0.3],\n",
       "       [1. , 0. , 0. , 0. , 0. ],\n",
       "       [0. , 0.4, 0.3, 0.1, 0.2],\n",
       "       [0. , 0.2, 0.3, 0.1, 0.4],\n",
       "       [0. , 0.2, 0. , 0. , 0.8],\n",
       "       [0. , 0.1, 0.3, 0. , 0.6],\n",
       "       [1. , 0. , 0. , 0. , 0. ],\n",
       "       [1. , 0. , 0. , 0. , 0. ],\n",
       "       [0. , 0.1, 0.2, 0.4, 0.3],\n",
       "       [1. , 0. , 0. , 0. , 0. ],\n",
       "       [1. , 0. , 0. , 0. , 0. ],\n",
       "       [0.8, 0. , 0.1, 0. , 0.1],\n",
       "       [0. , 0.2, 0.4, 0. , 0.4],\n",
       "       [0. , 0.3, 0.2, 0. , 0.5],\n",
       "       [1. , 0. , 0. , 0. , 0. ],\n",
       "       [0. , 0.1, 0. , 0. , 0.9],\n",
       "       [1. , 0. , 0. , 0. , 0. ],\n",
       "       [0. , 0.1, 0.3, 0. , 0.6],\n",
       "       [1. , 0. , 0. , 0. , 0. ],\n",
       "       [0. , 0.2, 0.1, 0.1, 0.6],\n",
       "       [1. , 0. , 0. , 0. , 0. ],\n",
       "       [1. , 0. , 0. , 0. , 0. ],\n",
       "       [1. , 0. , 0. , 0. , 0. ],\n",
       "       [0. , 0.4, 0.3, 0.1, 0.2],\n",
       "       [1. , 0. , 0. , 0. , 0. ],\n",
       "       [0. , 0.4, 0.1, 0.2, 0.3],\n",
       "       [0.8, 0.1, 0. , 0. , 0.1],\n",
       "       [0. , 0.2, 0.1, 0.1, 0.6],\n",
       "       [1. , 0. , 0. , 0. , 0. ]])"
      ]
     },
     "execution_count": 921,
     "metadata": {},
     "output_type": "execute_result"
    }
   ],
   "source": [
    "KNN_10.predict_proba(X_test)"
   ]
  },
  {
   "cell_type": "code",
   "execution_count": 922,
   "metadata": {},
   "outputs": [
    {
     "name": "stdout",
     "output_type": "stream",
     "text": [
      "Accuracy score for knn Classifier nr neighb=10:\n",
      "0.83\n"
     ]
    }
   ],
   "source": [
    "print(\"Accuracy score for knn Classifier nr neighb=10:\")\n",
    "print(KNN_10.score(X,y))\n"
   ]
  },
  {
   "cell_type": "code",
   "execution_count": 923,
   "metadata": {},
   "outputs": [
    {
     "data": {
      "text/plain": [
       "<AxesSubplot:>"
      ]
     },
     "execution_count": 923,
     "metadata": {},
     "output_type": "execute_result"
    },
    {
     "data": {
      "image/png": "[encoded data removed]",
      "text/plain": [
       "<Figure size 432x288 with 2 Axes>"
      ]
     },
     "metadata": {},
     "output_type": "display_data"
    }
   ],
   "source": [
    "#METRICA 1- confusion matrix\n",
    "sns.heatmap(confusion_matrix(y_test, pred),annot=True)\n"
   ]
  },
  {
   "cell_type": "code",
   "execution_count": 924,
   "metadata": {},
   "outputs": [
    {
     "name": "stdout",
     "output_type": "stream",
     "text": [
      "F1 score for KNN_15 is:\n"
     ]
    },
    {
     "data": {
      "text/plain": [
       "0.573015873015873"
      ]
     },
     "execution_count": 924,
     "metadata": {},
     "output_type": "execute_result"
    }
   ],
   "source": [
    "#METRICA 2- f1_score\n",
    "#F1 = 2 * (precision * recall) / (precision + recall)\n",
    "print(\"F1 score for KNN_15 is:\")\n",
    "k10_f1 = f1_score(y_test, pred, average='macro')\n",
    "k10_f1\n"
   ]
  },
  {
   "cell_type": "code",
   "execution_count": 925,
   "metadata": {},
   "outputs": [
    {
     "data": {
      "text/plain": [
       "array([1.        , 0.625     , 0.        , 0.33333333, 0.89473684])"
      ]
     },
     "execution_count": 925,
     "metadata": {},
     "output_type": "execute_result"
    }
   ],
   "source": [
    "#METRICA 3-recall_score\n",
    "k10_recall = recall_score(y_test,pred,average=None)\n",
    "k10_recall\n"
   ]
  },
  {
   "cell_type": "code",
   "execution_count": 926,
   "metadata": {},
   "outputs": [],
   "source": [
    "#METRICA 4- accuracy score:this function computes subset accuracy: the set of labels predicted for a sample \n",
    "# must exactly match the corresponding set of labels in y_test.\n",
    "k10_acc = accuracy_score(y_test,pred)\n"
   ]
  },
  {
   "cell_type": "code",
   "execution_count": 927,
   "metadata": {},
   "outputs": [
    {
     "name": "stdout",
     "output_type": "stream",
     "text": [
      "[1.         0.5        0.         1.         0.73913043]\n"
     ]
    }
   ],
   "source": [
    "#METRICA 5- Precision\n",
    "#Precision explains how many of the correctly predicted cases actually turned out to be positive\n",
    "print(precision_score(y_test, pred, average=None))\n",
    "k10_precision = precision_score(y_test, pred, average=None)\n"
   ]
  },
  {
   "cell_type": "code",
   "execution_count": 928,
   "metadata": {},
   "outputs": [
    {
     "name": "stdout",
     "output_type": "stream",
     "text": [
      "              precision    recall  f1-score   support\n",
      "\n",
      "           0       1.00      1.00      1.00        29\n",
      "           1       0.50      0.62      0.56         8\n",
      "           2       0.00      0.00      0.00         4\n",
      "           3       1.00      0.33      0.50         6\n",
      "           4       0.74      0.89      0.81        19\n",
      "\n",
      "    accuracy                           0.80        66\n",
      "   macro avg       0.65      0.57      0.57        66\n",
      "weighted avg       0.80      0.80      0.79        66\n",
      "\n"
     ]
    }
   ],
   "source": [
    "#classification_report:Build a text report showing the main classification metrics.\n",
    "print(classification_report(y_test,pred))"
   ]
  },
  {
   "cell_type": "markdown",
   "metadata": {},
   "source": [
    "KNN -Nr of neighbors:5"
   ]
  },
  {
   "cell_type": "code",
   "execution_count": 929,
   "metadata": {},
   "outputs": [
    {
     "data": {
      "text/plain": [
       "KNeighborsClassifier()"
      ]
     },
     "execution_count": 929,
     "metadata": {},
     "output_type": "execute_result"
    }
   ],
   "source": [
    "\n",
    "\n",
    "KNN_5 = KNeighborsClassifier(n_neighbors=5)\n",
    "KNN_5\n"
   ]
  },
  {
   "cell_type": "code",
   "execution_count": 930,
   "metadata": {},
   "outputs": [
    {
     "data": {
      "text/plain": [
       "KNeighborsClassifier()"
      ]
     },
     "execution_count": 930,
     "metadata": {},
     "output_type": "execute_result"
    }
   ],
   "source": [
    "KNN_5.fit(X_train, y_train)"
   ]
  },
  {
   "cell_type": "code",
   "execution_count": 931,
   "metadata": {},
   "outputs": [
    {
     "data": {
      "text/html": [
       "<div>\n",
       "<style scoped>\n",
       "    .dataframe tbody tr th:only-of-type {\n",
       "        vertical-align: middle;\n",
       "    }\n",
       "\n",
       "    .dataframe tbody tr th {\n",
       "        vertical-align: top;\n",
       "    }\n",
       "\n",
       "    .dataframe thead th {\n",
       "        text-align: right;\n",
       "    }\n",
       "</style>\n",
       "<table border=\"1\" class=\"dataframe\">\n",
       "  <thead>\n",
       "    <tr style=\"text-align: right;\">\n",
       "      <th></th>\n",
       "      <th>Na_to_K</th>\n",
       "      <th>BP_LOW</th>\n",
       "      <th>BP_NORMAL</th>\n",
       "      <th>Cholesterol_NORMAL</th>\n",
       "      <th>Sex_M</th>\n",
       "    </tr>\n",
       "  </thead>\n",
       "  <tbody>\n",
       "    <tr>\n",
       "      <th>42</th>\n",
       "      <td>15.790</td>\n",
       "      <td>0</td>\n",
       "      <td>1</td>\n",
       "      <td>1</td>\n",
       "      <td>1</td>\n",
       "    </tr>\n",
       "    <tr>\n",
       "      <th>189</th>\n",
       "      <td>20.932</td>\n",
       "      <td>0</td>\n",
       "      <td>0</td>\n",
       "      <td>1</td>\n",
       "      <td>1</td>\n",
       "    </tr>\n",
       "    <tr>\n",
       "      <th>90</th>\n",
       "      <td>16.594</td>\n",
       "      <td>0</td>\n",
       "      <td>1</td>\n",
       "      <td>0</td>\n",
       "      <td>1</td>\n",
       "    </tr>\n",
       "    <tr>\n",
       "      <th>136</th>\n",
       "      <td>10.977</td>\n",
       "      <td>0</td>\n",
       "      <td>0</td>\n",
       "      <td>0</td>\n",
       "      <td>0</td>\n",
       "    </tr>\n",
       "    <tr>\n",
       "      <th>51</th>\n",
       "      <td>10.898</td>\n",
       "      <td>0</td>\n",
       "      <td>1</td>\n",
       "      <td>1</td>\n",
       "      <td>1</td>\n",
       "    </tr>\n",
       "    <tr>\n",
       "      <th>...</th>\n",
       "      <td>...</td>\n",
       "      <td>...</td>\n",
       "      <td>...</td>\n",
       "      <td>...</td>\n",
       "      <td>...</td>\n",
       "    </tr>\n",
       "    <tr>\n",
       "      <th>106</th>\n",
       "      <td>11.953</td>\n",
       "      <td>0</td>\n",
       "      <td>1</td>\n",
       "      <td>0</td>\n",
       "      <td>1</td>\n",
       "    </tr>\n",
       "    <tr>\n",
       "      <th>14</th>\n",
       "      <td>12.703</td>\n",
       "      <td>0</td>\n",
       "      <td>1</td>\n",
       "      <td>0</td>\n",
       "      <td>0</td>\n",
       "    </tr>\n",
       "    <tr>\n",
       "      <th>92</th>\n",
       "      <td>29.450</td>\n",
       "      <td>0</td>\n",
       "      <td>0</td>\n",
       "      <td>0</td>\n",
       "      <td>0</td>\n",
       "    </tr>\n",
       "    <tr>\n",
       "      <th>179</th>\n",
       "      <td>15.891</td>\n",
       "      <td>0</td>\n",
       "      <td>1</td>\n",
       "      <td>0</td>\n",
       "      <td>0</td>\n",
       "    </tr>\n",
       "    <tr>\n",
       "      <th>102</th>\n",
       "      <td>13.127</td>\n",
       "      <td>1</td>\n",
       "      <td>0</td>\n",
       "      <td>0</td>\n",
       "      <td>0</td>\n",
       "    </tr>\n",
       "  </tbody>\n",
       "</table>\n",
       "<p>134 rows × 5 columns</p>\n",
       "</div>"
      ],
      "text/plain": [
       "     Na_to_K  BP_LOW  BP_NORMAL  Cholesterol_NORMAL  Sex_M\n",
       "42    15.790       0          1                   1      1\n",
       "189   20.932       0          0                   1      1\n",
       "90    16.594       0          1                   0      1\n",
       "136   10.977       0          0                   0      0\n",
       "51    10.898       0          1                   1      1\n",
       "..       ...     ...        ...                 ...    ...\n",
       "106   11.953       0          1                   0      1\n",
       "14    12.703       0          1                   0      0\n",
       "92    29.450       0          0                   0      0\n",
       "179   15.891       0          1                   0      0\n",
       "102   13.127       1          0                   0      0\n",
       "\n",
       "[134 rows x 5 columns]"
      ]
     },
     "execution_count": 931,
     "metadata": {},
     "output_type": "execute_result"
    }
   ],
   "source": [
    "X_train"
   ]
  },
  {
   "cell_type": "code",
   "execution_count": 932,
   "metadata": {},
   "outputs": [
    {
     "data": {
      "text/plain": [
       "42     0\n",
       "189    0\n",
       "90     0\n",
       "136    2\n",
       "51     4\n",
       "      ..\n",
       "106    4\n",
       "14     4\n",
       "92     0\n",
       "179    0\n",
       "102    3\n",
       "Name: Drug, Length: 134, dtype: int32"
      ]
     },
     "execution_count": 932,
     "metadata": {},
     "output_type": "execute_result"
    }
   ],
   "source": [
    "y_train"
   ]
  },
  {
   "cell_type": "code",
   "execution_count": 933,
   "metadata": {},
   "outputs": [],
   "source": [
    "pred3 = KNN_5.predict(X_test)"
   ]
  },
  {
   "cell_type": "code",
   "execution_count": 934,
   "metadata": {},
   "outputs": [
    {
     "data": {
      "text/plain": [
       "array([4, 0, 4, 3, 0, 0, 0, 1, 1, 4, 1, 1, 0, 1, 1, 0, 1, 4, 3, 0, 4, 1,\n",
       "       4, 0, 0, 0, 3, 1, 0, 4, 0, 1, 0, 0, 1, 0, 4, 1, 0, 2, 4, 4, 4, 0,\n",
       "       0, 3, 0, 0, 0, 4, 4, 0, 4, 0, 4, 0, 1, 0, 0, 0, 2, 0, 1, 0, 4, 0])"
      ]
     },
     "execution_count": 934,
     "metadata": {},
     "output_type": "execute_result"
    }
   ],
   "source": [
    "pred3"
   ]
  },
  {
   "cell_type": "code",
   "execution_count": 935,
   "metadata": {},
   "outputs": [
    {
     "name": "stdout",
     "output_type": "stream",
     "text": [
      "[4 0 4 3 0]\n",
      "95     4\n",
      "15     0\n",
      "30     4\n",
      "158    3\n",
      "128    0\n",
      "Name: Drug, dtype: int32\n"
     ]
    }
   ],
   "source": [
    "print(pred3[0:5])\n",
    "print(y_test[0:5])"
   ]
  },
  {
   "cell_type": "code",
   "execution_count": 936,
   "metadata": {},
   "outputs": [
    {
     "data": {
      "text/plain": [
       "array([[0. , 0.2, 0.2, 0.2, 0.4],\n",
       "       [0.6, 0. , 0.2, 0. , 0.2],\n",
       "       [0. , 0. , 0.2, 0. , 0.8],\n",
       "       [0. , 0. , 0.2, 0.8, 0. ],\n",
       "       [1. , 0. , 0. , 0. , 0. ],\n",
       "       [1. , 0. , 0. , 0. , 0. ],\n",
       "       [1. , 0. , 0. , 0. , 0. ],\n",
       "       [0. , 0.4, 0.2, 0. , 0.4],\n",
       "       [0. , 0.6, 0. , 0. , 0.4],\n",
       "       [0. , 0. , 0. , 0. , 1. ],\n",
       "       [0. , 0.4, 0.4, 0.2, 0. ],\n",
       "       [0. , 0.4, 0. , 0.2, 0.4],\n",
       "       [1. , 0. , 0. , 0. , 0. ],\n",
       "       [0. , 0.4, 0.2, 0.2, 0.2],\n",
       "       [0. , 0.6, 0.2, 0.2, 0. ],\n",
       "       [1. , 0. , 0. , 0. , 0. ],\n",
       "       [0. , 0.8, 0.2, 0. , 0. ],\n",
       "       [0. , 0.2, 0. , 0. , 0.8],\n",
       "       [0. , 0.2, 0.2, 0.6, 0. ],\n",
       "       [1. , 0. , 0. , 0. , 0. ],\n",
       "       [0. , 0.4, 0. , 0. , 0.6],\n",
       "       [0. , 0.4, 0.2, 0. , 0.4],\n",
       "       [0. , 0. , 0. , 0.4, 0.6],\n",
       "       [1. , 0. , 0. , 0. , 0. ],\n",
       "       [1. , 0. , 0. , 0. , 0. ],\n",
       "       [1. , 0. , 0. , 0. , 0. ],\n",
       "       [0. , 0. , 0.2, 0.8, 0. ],\n",
       "       [0. , 0.4, 0.2, 0. , 0.4],\n",
       "       [1. , 0. , 0. , 0. , 0. ],\n",
       "       [0. , 0. , 0. , 0.2, 0.8],\n",
       "       [1. , 0. , 0. , 0. , 0. ],\n",
       "       [0. , 0.4, 0. , 0.4, 0.2],\n",
       "       [0.4, 0. , 0. , 0.2, 0.4],\n",
       "       [1. , 0. , 0. , 0. , 0. ],\n",
       "       [0. , 0.4, 0.4, 0. , 0.2],\n",
       "       [1. , 0. , 0. , 0. , 0. ],\n",
       "       [0. , 0.2, 0. , 0.2, 0.6],\n",
       "       [0. , 0.4, 0.2, 0.2, 0.2],\n",
       "       [1. , 0. , 0. , 0. , 0. ],\n",
       "       [0. , 0.2, 0.4, 0.2, 0.2],\n",
       "       [0. , 0.4, 0. , 0. , 0.6],\n",
       "       [0. , 0. , 0. , 0. , 1. ],\n",
       "       [0. , 0. , 0.2, 0. , 0.8],\n",
       "       [1. , 0. , 0. , 0. , 0. ],\n",
       "       [1. , 0. , 0. , 0. , 0. ],\n",
       "       [0. , 0. , 0. , 0.6, 0.4],\n",
       "       [1. , 0. , 0. , 0. , 0. ],\n",
       "       [1. , 0. , 0. , 0. , 0. ],\n",
       "       [1. , 0. , 0. , 0. , 0. ],\n",
       "       [0. , 0.2, 0.2, 0. , 0.6],\n",
       "       [0. , 0. , 0.2, 0. , 0.8],\n",
       "       [1. , 0. , 0. , 0. , 0. ],\n",
       "       [0. , 0. , 0. , 0. , 1. ],\n",
       "       [1. , 0. , 0. , 0. , 0. ],\n",
       "       [0. , 0. , 0. , 0. , 1. ],\n",
       "       [1. , 0. , 0. , 0. , 0. ],\n",
       "       [0. , 0.4, 0. , 0.2, 0.4],\n",
       "       [1. , 0. , 0. , 0. , 0. ],\n",
       "       [1. , 0. , 0. , 0. , 0. ],\n",
       "       [1. , 0. , 0. , 0. , 0. ],\n",
       "       [0. , 0.2, 0.4, 0.2, 0.2],\n",
       "       [1. , 0. , 0. , 0. , 0. ],\n",
       "       [0. , 0.8, 0.2, 0. , 0. ],\n",
       "       [1. , 0. , 0. , 0. , 0. ],\n",
       "       [0. , 0.2, 0. , 0. , 0.8],\n",
       "       [1. , 0. , 0. , 0. , 0. ]])"
      ]
     },
     "execution_count": 936,
     "metadata": {},
     "output_type": "execute_result"
    }
   ],
   "source": [
    "KNN_5.predict_proba(X_test)"
   ]
  },
  {
   "cell_type": "code",
   "execution_count": 937,
   "metadata": {},
   "outputs": [
    {
     "name": "stdout",
     "output_type": "stream",
     "text": [
      "Accuracy score for knn Classifier nr neighb=10:\n",
      "0.89\n"
     ]
    }
   ],
   "source": [
    "print(\"Accuracy score for knn Classifier nr neighb=10:\")\n",
    "print(KNN_5.score(X,y))"
   ]
  },
  {
   "cell_type": "code",
   "execution_count": 938,
   "metadata": {},
   "outputs": [
    {
     "data": {
      "text/plain": [
       "<AxesSubplot:>"
      ]
     },
     "execution_count": 938,
     "metadata": {},
     "output_type": "execute_result"
    },
    {
     "data": {
      "image/png": "[encoded data removed]",
      "text/plain": [
       "<Figure size 432x288 with 2 Axes>"
      ]
     },
     "metadata": {},
     "output_type": "display_data"
    }
   ],
   "source": [
    "#METRICA 1- confusion matrix\n",
    "sns.heatmap(confusion_matrix(y_test, pred),annot=True)"
   ]
  },
  {
   "cell_type": "code",
   "execution_count": 939,
   "metadata": {},
   "outputs": [
    {
     "name": "stdout",
     "output_type": "stream",
     "text": [
      "F1 score for KNN_15 is:\n"
     ]
    },
    {
     "data": {
      "text/plain": [
       "0.573015873015873"
      ]
     },
     "execution_count": 939,
     "metadata": {},
     "output_type": "execute_result"
    }
   ],
   "source": [
    "#METRICA 2- f1_score\n",
    "#F1 = 2 * (precision * recall) / (precision + recall)\n",
    "print(\"F1 score for KNN_15 is:\")\n",
    "k5_f1 = f1_score(y_test, pred, average='macro')\n",
    "k5_f1"
   ]
  },
  {
   "cell_type": "code",
   "execution_count": 940,
   "metadata": {},
   "outputs": [
    {
     "data": {
      "text/plain": [
       "array([1.        , 0.625     , 0.        , 0.33333333, 0.89473684])"
      ]
     },
     "execution_count": 940,
     "metadata": {},
     "output_type": "execute_result"
    }
   ],
   "source": [
    "#METRICA 3-recall_score\n",
    "k5_recall = recall_score(y_test,pred,average=None)\n",
    "k5_recall"
   ]
  },
  {
   "cell_type": "code",
   "execution_count": 941,
   "metadata": {},
   "outputs": [
    {
     "data": {
      "text/plain": [
       "0.803030303030303"
      ]
     },
     "execution_count": 941,
     "metadata": {},
     "output_type": "execute_result"
    }
   ],
   "source": [
    "#METRICA 4- accuracy score:this function computes subset accuracy: the set of labels predicted for a sample \n",
    "# must exactly match the corresponding set of labels in y_test.\n",
    "k5_acc = accuracy_score(y_test,pred)\n",
    "k5_acc"
   ]
  },
  {
   "cell_type": "code",
   "execution_count": 942,
   "metadata": {},
   "outputs": [
    {
     "name": "stdout",
     "output_type": "stream",
     "text": [
      "[1.         0.5        0.         1.         0.73913043]\n"
     ]
    }
   ],
   "source": [
    "#METRICA 5- Precision\n",
    "#Precision explains how many of the correctly predicted cases actually turned out to be positive\n",
    "print(precision_score(y_test, pred, average=None))\n",
    "k5_precision = precision_score(y_test, pred, average=None)\n"
   ]
  },
  {
   "cell_type": "code",
   "execution_count": 943,
   "metadata": {},
   "outputs": [
    {
     "name": "stdout",
     "output_type": "stream",
     "text": [
      "              precision    recall  f1-score   support\n",
      "\n",
      "           0       1.00      1.00      1.00        29\n",
      "           1       0.50      0.62      0.56         8\n",
      "           2       0.00      0.00      0.00         4\n",
      "           3       1.00      0.33      0.50         6\n",
      "           4       0.74      0.89      0.81        19\n",
      "\n",
      "    accuracy                           0.80        66\n",
      "   macro avg       0.65      0.57      0.57        66\n",
      "weighted avg       0.80      0.80      0.79        66\n",
      "\n"
     ]
    }
   ],
   "source": [
    "#classification_report:Build a text report showing the main classification metrics.\n",
    "print(classification_report(y_test,pred))"
   ]
  },
  {
   "cell_type": "markdown",
   "metadata": {},
   "source": [
    "Finding max score for  KNeighborsClassifier"
   ]
  },
  {
   "cell_type": "code",
   "execution_count": 944,
   "metadata": {},
   "outputs": [
    {
     "data": {
      "image/png": "[encoded data removed]",
      "text/plain": [
       "<Figure size 432x288 with 1 Axes>"
      ]
     },
     "metadata": {},
     "output_type": "display_data"
    },
    {
     "name": "stdout",
     "output_type": "stream",
     "text": [
      "KNN Max Score 0.8636363636363636\n"
     ]
    }
   ],
   "source": [
    "scores = []\n",
    "for i in range(5,25):\n",
    "    KNclassifier = KNeighborsClassifier(n_neighbors = i)\n",
    "    KNclassifier.fit(X_train, y_train)\n",
    "    scores.append(KNclassifier.score(X_test, y_test))\n",
    "    \n",
    "plt.plot(range(5,25), scores)\n",
    "plt.xticks(np.arange(5,25))\n",
    "plt.xlabel(\"K\")\n",
    "plt.ylabel(\"Score\")\n",
    "plt.show()\n",
    "maxK = max(scores)\n",
    "print(\"KNN Max Score\",maxK)"
   ]
  },
  {
   "cell_type": "markdown",
   "metadata": {},
   "source": [
    "Radius Neighbors Classifier"
   ]
  },
  {
   "cell_type": "code",
   "execution_count": 945,
   "metadata": {},
   "outputs": [
    {
     "data": {
      "text/plain": [
       "RadiusNeighborsClassifier(radius=5)"
      ]
     },
     "execution_count": 945,
     "metadata": {},
     "output_type": "execute_result"
    }
   ],
   "source": [
    "\n",
    "RNK = RadiusNeighborsClassifier(radius = 5)\n",
    "RNK.fit(X_train, y_train)\n"
   ]
  },
  {
   "cell_type": "code",
   "execution_count": 946,
   "metadata": {},
   "outputs": [
    {
     "data": {
      "text/plain": [
       "array([4, 0, 4, 4, 0, 0, 0, 4, 4, 4, 4, 4, 0, 4, 4, 0, 4, 4, 4, 0, 4, 4,\n",
       "       4, 0, 0, 0, 4, 4, 0, 4, 0, 4, 0, 0, 4, 0, 4, 4, 0, 4, 4, 4, 4, 0,\n",
       "       0, 4, 0, 0, 0, 4, 4, 0, 4, 0, 4, 0, 4, 0, 0, 0, 4, 0, 4, 0, 4, 0])"
      ]
     },
     "execution_count": 946,
     "metadata": {},
     "output_type": "execute_result"
    }
   ],
   "source": [
    "y_pred = RNK.predict(X_test)\n",
    "y_pred"
   ]
  },
  {
   "cell_type": "code",
   "execution_count": 947,
   "metadata": {},
   "outputs": [
    {
     "data": {
      "text/plain": [
       "95     4\n",
       "15     0\n",
       "30     4\n",
       "158    3\n",
       "128    0\n",
       "      ..\n",
       "97     0\n",
       "31     2\n",
       "12     0\n",
       "35     4\n",
       "119    0\n",
       "Name: Drug, Length: 66, dtype: int32"
      ]
     },
     "execution_count": 947,
     "metadata": {},
     "output_type": "execute_result"
    }
   ],
   "source": [
    "y_test"
   ]
  },
  {
   "cell_type": "code",
   "execution_count": 948,
   "metadata": {},
   "outputs": [
    {
     "name": "stdout",
     "output_type": "stream",
     "text": [
      "Accuracy score for RADIUS CLASSIFIER:\n",
      "0.71\n"
     ]
    }
   ],
   "source": [
    "print(\"Accuracy score for RADIUS CLASSIFIER:\")\n",
    "print(RNK.score(X,y))"
   ]
  },
  {
   "cell_type": "markdown",
   "metadata": {},
   "source": [
    "Finding max score for RadiusNeighborsClassifier "
   ]
  },
  {
   "cell_type": "code",
   "execution_count": 949,
   "metadata": {},
   "outputs": [
    {
     "data": {
      "image/png": "[encoded data removed]",
      "text/plain": [
       "<Figure size 432x288 with 1 Axes>"
      ]
     },
     "metadata": {},
     "output_type": "display_data"
    },
    {
     "name": "stdout",
     "output_type": "stream",
     "text": [
      "KNN Radius Max Score  0.7272727272727273\n"
     ]
    }
   ],
   "source": [
    "scores = []\n",
    "for i in range(5,25):\n",
    "    knnRadius = RadiusNeighborsClassifier(radius = i)\n",
    "    knnRadius.fit(X_train, y_train)\n",
    "    scores.append(knnRadius.score(X_test, y_test))\n",
    "    \n",
    "plt.plot(range(5,25), scores)\n",
    "plt.xticks(np.arange(5,25))\n",
    "plt.xlabel(\"Radius\")\n",
    "plt.ylabel(\"Score\")\n",
    "plt.show()\n",
    "maxRadius = max(scores)\n",
    "print(\"KNN Radius Max Score \",maxRadius)"
   ]
  }
 ],
 "metadata": {
  "kernelspec": {
   "display_name": "Python 3 (ipykernel)",
   "language": "python",
   "name": "python3"
  },
  "language_info": {
   "codemirror_mode": {
    "name": "ipython",
    "version": 3
   },
   "file_extension": ".py",
   "mimetype": "text/x-python",
   "name": "python",
   "nbconvert_exporter": "python",
   "pygments_lexer": "ipython3",
   "version": "3.10.4"
  }
 },
 "nbformat": 4,
 "nbformat_minor": 1
}
